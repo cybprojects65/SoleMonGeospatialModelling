{
 "cells": [
  {
   "cell_type": "code",
   "execution_count": 19,
   "metadata": {},
   "outputs": [],
   "source": [
    "using Random\n",
    "using Printf\n",
    "using DelimitedFiles\n",
    "using DataStructures\n",
    "using Dates\n",
    "using Statistics\n",
    "using NCDatasets\n",
    "using DIVAnd\n",
    "using PyPlot\n"
   ]
  },
  {
   "cell_type": "code",
   "execution_count": 20,
   "metadata": {},
   "outputs": [
    {
     "name": "stderr",
     "output_type": "stream",
     "text": [
      "┌ Info: Bathymetry file already downloaded\n",
      "└ @ Main In[20]:34\n"
     ]
    }
   ],
   "source": [
    "#default CF name of the environmental variable to model\n",
    "stdname = \"sea_water_temperature\"\n",
    "\n",
    "#input file\n",
    "t = \"AVG_CPHL_2020.csv\"\n",
    "\n",
    "resolution=0.1\n",
    "minlat=38\n",
    "maxlat=46\n",
    "minlon=8\n",
    "maxlon=20\n",
    "lenc = 130_000 #spatial correlation in m\n",
    "lenz = 25 #spatial correlation on z axis\n",
    "epsilon2 = 0.1/50 #inverse of SNR\n",
    "\n",
    "year_window = 10\n",
    "years = 2002:2002\n",
    "monthlists = [\n",
    "    [10]\n",
    "];\n",
    "\n",
    "#monthlists = [\n",
    " #   [1,2,3],\n",
    "  #  [4,5,6],\n",
    "   # [7,8,9],\n",
    "   # [10,11,12]\n",
    "#];\n",
    "\n",
    "#prepare bathymetry\n",
    "bathname = \"gebco_30sec_8.nc\"\n",
    "if !isfile(bathname)\n",
    "    download(\"https://dox.ulg.ac.be/index.php/s/U0pqyXhcQrXjEUX/download\",bathname)\n",
    "else\n",
    "    @info(\"Bathymetry file already downloaded\")\n",
    "end\n",
    "\n"
   ]
  },
  {
   "cell_type": "code",
   "execution_count": 21,
   "metadata": {},
   "outputs": [
    {
     "data": {
      "text/plain": [
       "plotres (generic function with 1 method)"
      ]
     },
     "execution_count": 21,
     "metadata": {},
     "output_type": "execute_result"
    }
   ],
   "source": [
    "function plotres(timeindex,sel,fit,erri)\n",
    "    tmp = copy(fit)\n",
    "    tmp[erri .> .5] .= NaN;\n",
    "    figure(figsize = (10,8))\n",
    "    subplot(2,1,1)\n",
    "    title(\"$(timeindex)\")\n",
    "    \n",
    "    #select the data near the surface\n",
    "    selsurface = sel .& (obsdepth .< 2)\n",
    "    vmin = minimum(obsval[selsurface])\n",
    "    vmax = maximum(obsval[selsurface])\n",
    "    \n",
    "    #plot the data\n",
    "    scatter(obslon[selsurface],obslat[selsurface],10,obsval[selsurface];\n",
    "            vmin = vmin, vmax = vmax)\n",
    "    xlim(minimum(lonr),maximum(lonr))\n",
    "    ylim(minimum(latr),maximum(latr))\n",
    "    colorbar()\n",
    "    contourf(bx,by,permutedims(b,[2,1]), levels = [-1e5,0],colors = [[.5,.5,.5]])\n",
    "    \n",
    "    #plot the analysis\n",
    "    subplot(2,1,2)\n",
    "    pcolor(lonr,latr,permutedims(tmp[:,:,1],[2,1]);\n",
    "           vmin = vmin, vmax = vmax)\n",
    "    colorbar()\n",
    "    contourf(bx,by,permutedims(b,[2,1]), levels = [-1e5,0],colors = [[.5,.5,.5]])\n",
    "end\n",
    "\n",
    "#########################################"
   ]
  },
  {
   "cell_type": "code",
   "execution_count": 22,
   "metadata": {},
   "outputs": [
    {
     "name": "stdout",
     "output_type": "stream",
     "text": [
      "  0.001122 seconds (404 allocations: 426.203 KiB)\n"
     ]
    },
    {
     "name": "stderr",
     "output_type": "stream",
     "text": [
      "┌ Info: file to analyse AVG_CPHL_2020.csv\n",
      "└ @ Main In[22]:4\n",
      "┌ Info: writing DIVA result to AVG_CPHL_2020.nc\n",
      "└ @ Main In[22]:7\n"
     ]
    },
    {
     "data": {
      "text/plain": [
       "1.3456327296063761"
      ]
     },
     "execution_count": 22,
     "metadata": {},
     "output_type": "execute_result"
    }
   ],
   "source": [
    "#for i in t \n",
    "i = t\n",
    "\n",
    "@info \"file to analyse $(i)\"\n",
    "varname = \"$(replace(i,\".csv\"=>\"\"))\"\n",
    "filename = \"$(replace(varname,\" \"=>\"_\")).nc\"\n",
    "@info \"writing DIVA result to $(filename)\"\n",
    "TS = TimeSelectorYW(years,year_window,monthlists)\n",
    "\n",
    "#prepare bounding box\n",
    "dx, dy = resolution, resolution\n",
    "lonr = minlon:dx:maxlon\n",
    "latr = minlat:dy:maxlat\n",
    "depthr = [0.,1.5]#[0.,10.0];\n",
    "\n",
    "@time bx,by,b = load_bath(bathname,true,lonr,latr);\n",
    "bathisglobal = true\n",
    "aspect_ratio = 1/cos(mean(latr) * pi/180)\n",
    "\n",
    "#########################################"
   ]
  },
  {
   "cell_type": "code",
   "execution_count": 23,
   "metadata": {},
   "outputs": [
    {
     "name": "stdout",
     "output_type": "stream",
     "text": [
      "length(obslat) = 39\n",
      "length(obslon) = 39\n",
      "length(obsval) = 39\n",
      "obstime = [DateTime(\"2002-10-01T00:00:00\"), DateTime(\"2002-10-01T00:00:00\"), DateTime(\"2002-10-01T00:00:00\"), DateTime(\"2002-10-01T00:00:00\"), DateTime(\"2002-10-01T00:00:00\"), DateTime(\"2002-10-01T00:00:00\"), DateTime(\"2002-10-01T00:00:00\"), DateTime(\"2002-10-01T00:00:00\"), DateTime(\"2002-10-01T00:00:00\"), DateTime(\"2002-10-01T00:00:00\"), DateTime(\"2002-10-01T00:00:00\"), DateTime(\"2002-10-01T00:00:00\"), DateTime(\"2002-10-01T00:00:00\"), DateTime(\"2002-10-01T00:00:00\"), DateTime(\"2002-10-01T00:00:00\"), DateTime(\"2002-10-01T00:00:00\"), DateTime(\"2002-10-01T00:00:00\"), DateTime(\"2002-10-01T00:00:00\"), DateTime(\"2002-10-01T00:00:00\"), DateTime(\"2002-10-01T00:00:00\"), DateTime(\"2002-10-01T00:00:00\"), DateTime(\"2002-10-01T00:00:00\"), DateTime(\"2002-10-01T00:00:00\"), DateTime(\"2002-10-01T00:00:00\"), DateTime(\"2002-10-01T00:00:00\"), DateTime(\"2002-10-01T00:00:00\"), DateTime(\"2002-10-01T00:00:00\"), DateTime(\"2002-10-01T00:00:00\"), DateTime(\"2002-10-01T00:00:00\"), DateTime(\"2002-10-01T00:00:00\"), DateTime(\"2002-10-01T00:00:00\"), DateTime(\"2002-10-01T00:00:00\"), DateTime(\"2002-10-01T00:00:00\"), DateTime(\"2002-10-01T00:00:00\"), DateTime(\"2002-10-01T00:00:00\"), DateTime(\"2002-10-01T00:00:00\"), DateTime(\"2002-10-01T00:00:00\"), DateTime(\"2002-10-01T00:00:00\"), DateTime(\"2002-10-01T00:00:00\")]\n"
     ]
    },
    {
     "name": "stderr",
     "output_type": "stream",
     "text": [
      "┌ Info: range of lat (41.5, 42.2)\n",
      "└ @ Main In[23]:6\n",
      "┌ Info: range of lon (17.4, 18.2)\n",
      "└ @ Main In[23]:7\n",
      "┌ Info: range of values (0.0160924663072777, 0.0732101991388581)\n",
      "└ @ Main In[23]:8\n"
     ]
    },
    {
     "data": {
      "text/plain": [
       "39-element Array{DateTime,1}:\n",
       " 2002-10-01T00:00:00\n",
       " 2002-10-01T00:00:00\n",
       " 2002-10-01T00:00:00\n",
       " 2002-10-01T00:00:00\n",
       " 2002-10-01T00:00:00\n",
       " 2002-10-01T00:00:00\n",
       " 2002-10-01T00:00:00\n",
       " 2002-10-01T00:00:00\n",
       " 2002-10-01T00:00:00\n",
       " 2002-10-01T00:00:00\n",
       " 2002-10-01T00:00:00\n",
       " 2002-10-01T00:00:00\n",
       " 2002-10-01T00:00:00\n",
       " ⋮\n",
       " 2002-10-01T00:00:00\n",
       " 2002-10-01T00:00:00\n",
       " 2002-10-01T00:00:00\n",
       " 2002-10-01T00:00:00\n",
       " 2002-10-01T00:00:00\n",
       " 2002-10-01T00:00:00\n",
       " 2002-10-01T00:00:00\n",
       " 2002-10-01T00:00:00\n",
       " 2002-10-01T00:00:00\n",
       " 2002-10-01T00:00:00\n",
       " 2002-10-01T00:00:00\n",
       " 2002-10-01T00:00:00"
      ]
     },
     "execution_count": 23,
     "metadata": {},
     "output_type": "execute_result"
    }
   ],
   "source": [
    "#read data\n",
    "data = readdlm(i, ' ', header=false);\n",
    "obslat = data[:,2];\n",
    "obslon = data[:,1];\n",
    "obsval = data[:,3];\n",
    "@info \"range of lat $(extrema(obslat))\"\n",
    "@info \"range of lon $(extrema(obslon))\"\n",
    "@info \"range of values $(extrema(obsval))\"\n",
    "\n",
    "#fix depth to the value fixed in the currents\n",
    "obsdepth = Array{Float64,1}(undef,length(obsval))\n",
    "for j in 1:length(obsval)\n",
    "     obsdepth[j] = 1.5\n",
    "end\n",
    "\n",
    "#fix time to the value fixed in the currents\n",
    "obstime = Array{DateTime,1}(undef,length(obsval))\n",
    "for j in 1:length(obsval)\n",
    "    obstime[j] = DateTime(string(\"01/10/2002\"), \"dd/mm/yyyy\")#DateTime(string(\"2002-10-01\"), \"yyyy-MM-dd\")\n",
    "end\n",
    "\n",
    "@show length(obslat) length(obslon) length(obsval)\n",
    "@show obstime\n",
    "#########################################\n"
   ]
  },
  {
   "cell_type": "code",
   "execution_count": 24,
   "metadata": {},
   "outputs": [
    {
     "data": {
      "text/plain": [
       "(OrderedDict(\"project\" => \"SeaDataCloud\",\"institution\" => \"University of Liège, GeoHydrodynamics and Environment Research\",\"institution_urn\" => \"SDN:EDMO::1579\",\"Author_e-mail\" => \"gianpaolo.coro@cnr.it\",\"source\" => \"observational data from SeaDataNet/EMODNet Chemistry Data Network\",\"comment\" => \"...\",\"parameter_keyword\" => \"Water body salinity\",\"parameter_keyword_urn\" => \"SDN:P35::EPC00001\",\"search_keywords\" => \"Salinity of the water column\",\"search_keywords_urn\" => \"SDN:P02::PSAL\"…), OrderedDict(\"units\" => \"1\",\"standard_name\" => \"sea_water_temperature\",\"long_name\" => \"sea_water_temperature\"))"
      ]
     },
     "execution_count": 24,
     "metadata": {},
     "output_type": "execute_result"
    }
   ],
   "source": [
    "metadata = OrderedDict(\n",
    "    # Name of the project (SeaDataCloud, SeaDataNet, EMODNET-chemistry, ...)\n",
    "    \"project\" => \"SeaDataCloud\",\n",
    "    # URN code for the institution EDMO registry,\n",
    "    # e.g. SDN:EDMO::1579\n",
    "    \"institution_urn\" => \"SDN:EDMO::1579\",\n",
    "    # Production group\n",
    "    #\"production\" => \"Diva group\",\n",
    "    # Name and emails from authors\n",
    "    \"Author_e-mail\" => [\"gianpaolo.coro@cnr.it\"],\n",
    "    # Source of the observation\n",
    "    \"source\" => \"observational data from SeaDataNet/EMODNet Chemistry Data Network\",\n",
    "    # Additional comment\n",
    "    \"comment\" => \"...\",\n",
    "    # SeaDataNet Vocabulary P35 URN\n",
    "    # http://seadatanet.maris2.nl/v_bodc_vocab_v2/search.asp?lib=p35\n",
    "    # example: SDN:P35::WATERTEMP\n",
    "    \"parameter_keyword_urn\" => \"SDN:P35::EPC00001\",\n",
    "    # List of SeaDataNet Parameter Discovery Vocabulary P02 URNs\n",
    "    # http://seadatanet.maris2.nl/v_bodc_vocab_v2/search.asp?lib=p02\n",
    "    # example: [\"SDN:P02::TEMP\"]\n",
    "    \"search_keywords_urn\" => [\"SDN:P02::PSAL\"],\n",
    "    # List of SeaDataNet Vocabulary C19 area URNs\n",
    "    # SeaVoX salt and fresh water body gazetteer (C19)\n",
    "    # http://seadatanet.maris2.nl/v_bodc_vocab_v2/search.asp?lib=C19\n",
    "    # example: [\"SDN:C19::3_1\"]\n",
    "    \"area_keywords_urn\" => [\"SDN:C19::3_3\"],\n",
    "    \"product_version\" => \"1.0\",\n",
    "    \"product_code\" => \"something-to-decide\",\n",
    "    # bathymetry source acknowledgement\n",
    "    # see, e.g.\n",
    "    # * EMODnet Bathymetry Consortium (2016): EMODnet Digital Bathymetry (DTM).\n",
    "    # https://doi.org/10.12770/c7b53704-999d-4721-b1a3-04ec60c87238\n",
    "    # \n",
    "    # taken from\n",
    "    # http://www.emodnet-bathymetry.eu/data-products/acknowledgement-in-publications\n",
    "    #\n",
    "    # * The GEBCO Digital Atlas published by the British Oceanographic Data Centre on behalf of IOC and IHO, 2003\n",
    "    #\n",
    "    # taken from\n",
    "    # https://www.bodc.ac.uk/projects/data_management/international/gebco/gebco_digital_atlas/copyright_and_attribution/\n",
    "    \"bathymetry_source\" => \"The GEBCO Digital Atlas published by the British Oceanographic Data Centre on behalf of IOC and IHO, 2003\",\n",
    "    # NetCDF CF standard name\n",
    "    # http://cfconventions.org/Data/cf-standard-names/current/build/cf-standard-name-table.html\n",
    "    # example \"standard_name\" = \"sea_water_temperature\",\n",
    "    \"netcdf_standard_name\" => stdname,\n",
    "    \"netcdf_long_name\" => stdname,\n",
    "    \"netcdf_units\" => \"1\",\n",
    "    # Abstract for the product\n",
    "    \"abstract\" => \"...\",\n",
    "    # This option provides a place to acknowledge various types of support for the\n",
    "    # project that produced the data\n",
    "    \"acknowledgement\" => \"...\",\n",
    "    \"documentation\" => \"https://doi.org/doi_of_doc\",\n",
    "    # Digital Object Identifier of the data product\n",
    "    \"doi\" => \"...\")\n",
    "\tncglobalattrib,ncvarattrib = SDNMetadata(metadata,filename,varname,lonr,latr)\n",
    "#########################################"
   ]
  },
  {
   "cell_type": "code",
   "execution_count": 25,
   "metadata": {},
   "outputs": [],
   "source": [
    "currentsfile =\"oceanic_currents_ZT_dep_DIVA_T10.nc\" #\"oceanic_currents_ZT_dep.nc\" #\"2003_average-currents.nc\"#\"2003_average-currents.nc\"#\"oceanic_currents_ZT_dep_DIVA_T10.nc\"\n",
    "outvarnames = (\"u\",\"v\")\n",
    "sz = (length(lonr),length(latr),length(depthr));\n",
    "lenx = fill(lenc,sz)   # 100 km\n",
    "leny = fill(lenc,sz)   # 100 km\n",
    "lenz = fill(lenz,sz);      # 25 m#fill(25.,sz);      # 25 m\n",
    "len = (lenx, leny, lenz);\n",
    "\n",
    "if isfile(filename)\n",
    "\trm(filename) # delete the previous analysis\n",
    "end\n",
    "#########################################\n"
   ]
  },
  {
   "cell_type": "code",
   "execution_count": 26,
   "metadata": {},
   "outputs": [
    {
     "data": {
      "text/plain": [
       "TimeSelectorYearListMonthList{Array{StepRangeLen{Float64,Base.TwicePrecision{Float64},Base.TwicePrecision{Float64}},1},Array{Array{Int64,1},1}}(StepRangeLen{Float64,Base.TwicePrecision{Float64},Base.TwicePrecision{Float64}}[1997.0:1.0:2007.0], [[10]])"
      ]
     },
     "execution_count": 26,
     "metadata": {},
     "output_type": "execute_result"
    }
   ],
   "source": [
    "TSvelocity = TimeSelectorYW(years,year_window,monthlists)\n"
   ]
  },
  {
   "cell_type": "code",
   "execution_count": 27,
   "metadata": {},
   "outputs": [
    {
     "name": "stderr",
     "output_type": "stream",
     "text": [
      "┌ Info: Creating netCDF file AVG_CPHL_2020.nc\n",
      "└ @ DIVAnd /opt/julia/packages/DIVAnd/eDBbE/src/diva.jl:374\n",
      "┌ Info: Time step 1 / 1\n",
      "└ @ DIVAnd /opt/julia/packages/DIVAnd/eDBbE/src/diva.jl:427\n",
      "┌ Info: scaled correlation length (min,max) in dimension 1: (130000.0, 130000.0)\n",
      "└ @ DIVAnd /opt/julia/packages/DIVAnd/eDBbE/src/diva.jl:612\n",
      "┌ Info: scaled correlation length (min,max) in dimension 2: (130000.0, 130000.0)\n",
      "└ @ DIVAnd /opt/julia/packages/DIVAnd/eDBbE/src/diva.jl:612\n",
      "┌ Info: scaled correlation length (min,max) in dimension 3: (25.0, 25.0)\n",
      "└ @ DIVAnd /opt/julia/packages/DIVAnd/eDBbE/src/diva.jl:612\n",
      "┌ Info: analysis uses the velocity time index 1\n",
      "└ @ DIVAnd /opt/julia/packages/DIVAnd/eDBbE/src/utils.jl:883\n",
      "┌ Info: number of windows: 1\n",
      "└ @ DIVAnd /opt/julia/packages/DIVAnd/eDBbE/src/DIVAndgo.jl:110\n",
      "┌ Warning: There is an advection constraint; make sure the window sizes are large enough for the increased correlation length\n",
      "└ @ DIVAnd /opt/julia/packages/DIVAnd/eDBbE/src/DIVAndgo.jl:141\n"
     ]
    },
    {
     "data": {
      "image/png": "[encoded data removed]",
      "text/plain": [
       "Figure(PyObject <Figure size 1000x800 with 4 Axes>)"
      ]
     },
     "metadata": {},
     "output_type": "display_data"
    },
    {
     "name": "stdout",
     "output_type": "stream",
     "text": [
      "  2.946135 seconds (1.48 M allocations: 1.346 GiB, 16.21% gc time)\n"
     ]
    }
   ],
   "source": [
    "\n",
    "timeorigin = DateTime(1900,1,1,0,0,0)\n",
    "@time dbinfo = diva3d((lonr,latr,depthr,TS),\n",
    "              (obslon,obslat,obsdepth,obstime),\n",
    "              obsval,\n",
    "              (lenx,leny,lenz),\n",
    "              epsilon2,\n",
    "              filename,varname,\n",
    "              bathname = bathname,\n",
    "              bathisglobal = bathisglobal,\n",
    "              plotres = plotres,\n",
    "              ncvarattrib = ncvarattrib,\n",
    "              ncglobalattrib = ncglobalattrib,\n",
    "              fitcorrlen = false,\n",
    "              surfextend = true,\n",
    "              velocity = DIVAnd.velocityfile(currentsfile,(\"u\",\"v\"),TSvelocity,24*60*60*10),\n",
    "              timeorigin = timeorigin\n",
    "   );\n"
   ]
  },
  {
   "cell_type": "code",
   "execution_count": null,
   "metadata": {},
   "outputs": [],
   "source": []
  },
  {
   "cell_type": "code",
   "execution_count": null,
   "metadata": {},
   "outputs": [],
   "source": []
  },
  {
   "cell_type": "code",
   "execution_count": null,
   "metadata": {},
   "outputs": [],
   "source": []
  }
 ],
 "metadata": {
  "kernelspec": {
   "display_name": "Julia 1.5.0",
   "language": "julia",
   "name": "julia-1.5"
  },
  "language_info": {
   "file_extension": ".jl",
   "mimetype": "application/julia",
   "name": "julia",
   "version": "1.5.0"
  }
 },
 "nbformat": 4,
 "nbformat_minor": 4
}
